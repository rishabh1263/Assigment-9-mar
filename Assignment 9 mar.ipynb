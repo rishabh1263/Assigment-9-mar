{
 "cells": [
  {
   "cell_type": "markdown",
   "id": "626088ab",
   "metadata": {},
   "source": [
    "What is probability mass and probability density functions?\n",
    "Probability mass and density functions are used to describe discrete and continuous probability distributions, respectively. This allows us to determine the probability of an observation being exactly equal to a target value (discrete) or within a set range around our target value (continuous)."
   ]
  },
  {
   "cell_type": "markdown",
   "id": "2026b958",
   "metadata": {},
   "source": [
    "The Cumulative Distribution Function (CDF) of a real-valued random variable X, evaluated at x, is the probability function that X will take a value less than or equal to x. It is used to describe the probability distribution of random variables in a table."
   ]
  },
  {
   "cell_type": "markdown",
   "id": "935ca266",
   "metadata": {},
   "source": [
    "9 Real Life Examples Of Normal Distribution\n",
    "Height. The height of people is an example of normal distribution. ...\n",
    "Rolling A Dice. A fair rolling of dice is also a good example of normal distribution. ...\n",
    "Tossing A Coin. ...\n",
    "IQ. ...\n",
    "Technical Stock Market. ...\n",
    "Blood Pressure. ...\n",
    "Shoe Size. ...\n",
    "Birth Weight."
   ]
  },
  {
   "cell_type": "markdown",
   "id": "d0ce9518",
   "metadata": {},
   "source": [
    "The height of people is an example of normal distribution. Most of the people in a specific population are of average height. The number of people taller and shorter than the average height people is almost equal, and a very small number of people are either extremely tall or extremely short."
   ]
  },
  {
   "cell_type": "markdown",
   "id": "2953d980",
   "metadata": {},
   "source": [
    "The Bernoulli distribution represents the success or failure of a single Bernoulli trial. The Binomial Distribution represents the number of successes and failures in n independent Bernoulli trials for some given value of n."
   ]
  },
  {
   "cell_type": "markdown",
   "id": "fb33ce62",
   "metadata": {},
   "source": [
    "ANS = 015866"
   ]
  },
  {
   "cell_type": "markdown",
   "id": "67fe0060",
   "metadata": {},
   "source": [
    "What Is Uniform Distribution? In statistics, uniform distribution refers to a type of probability distribution in which all outcomes are equally likely. A deck of cards has within it uniform distributions because the likelihood of drawing a heart, a club, a diamond, or a spade is equally likely."
   ]
  },
  {
   "cell_type": "markdown",
   "id": "3a457ec7",
   "metadata": {},
   "source": [
    "The z-score shows the number of standard deviations a given data point lies from the mean. So, standard deviation must be calculated first because the z-score uses it to communicate a data point's variability."
   ]
  },
  {
   "cell_type": "markdown",
   "id": "29dfc7ab",
   "metadata": {},
   "source": [
    "What Is Central Limit Theorem, Its Significance & Uses\n",
    "Lesson 2 of 24By Avijeet Biswal\n",
    "\n",
    "Last updated on Feb 20, 202331602\n",
    "The Best Guide to Understand Central Limit Theorem\n",
    "PreviousNext\n",
    "Table of Contents\n",
    "What is the Central Limit Theorem?Significance of Central Limit TheoremAssumptions Behind the Central Limit TheoremWhy n ≥ 30 Samples?Mean and Standard Deviation of the SampleView More\n",
    "Central Limit Theorem, also known as the CLT, is a crucial pillar of statistics and machine learning. It is at the heart of hypothesis testing. In this tutorial, you will understand the concept of the CLT and its applications.\n",
    "\n",
    "What is the Central Limit Theorem?\n",
    "The CLT is a statistical theory that states that - if you take a sufficiently large sample size from a population with a finite level of variance, the mean of all samples from that population will be roughly equal to the population mean.\n",
    "\n",
    "Consider there are 15 sections in class X, and each section has 50 students. Our task is to calculate the average marks of students in class X. \n",
    "\n",
    "The standard approach will be to calculate the average simply:\n",
    "\n",
    "Calculate the total marks of all the students in Class X\n",
    "Add all the marks\n",
    "Divide the total marks by the total number of students\n",
    "But what if the data is extremely large? Is this a good approach? No way, calculation marks of all the students will be a tedious and time-consuming process. So, what are the alternatives? Let's take a look at another approach.\n",
    "\n",
    "To begin, select groups of students from the class at random. This will be referred to as a sample. Create several samples, each with 30 students.\n",
    "Calculate each sample's individual mean.\n",
    "Calculate the average of these sample means.\n",
    "The value will give us the approximate average marks of the students in Class X.\n",
    "The histogram of the sample means marks of the students will resemble a bell curve or normal distribution.\n",
    "Start your Dream Career with the Best Resources!\n",
    "Caltech Post Graduate Program in Data ScienceEXPLORE PROGRAMStart your Dream Career with the Best Resources!\n",
    "Significance of Central Limit Theorem\n",
    "The CLT has several applications. Look at the places where you can use it.\n",
    "\n",
    "Political/election polling is a great example of how you can use CLT. These polls are used to estimate the number of people who support a specific candidate. You may have seen these results with confidence intervals on news channels. The CLT aids in this calculation.\n",
    "You use the CLT in various census fields to calculate various population details, such as family income, electricity consumption, individual salaries, and so on.\n",
    "The CLT is useful in a variety of fields. Are there any others that come to mind? Put them in the comments section below this tutorial.\n",
    "\n",
    "Assumptions Behind the Central Limit Theorem\n",
    "Before we move on further, it is important to understand the assumptions behind CLT:\n",
    "\n",
    "The data must adhere to the randomization rule. It needs to be sampled at random.\n",
    "The samples should be unrelated to one another. One sample should not impact the others.\n",
    "When taking samples without replacement, the sample size should not exceed 10% of the population.\n",
    "When the population is symmetric, a sample size of 30 is generally considered reasonable. "
   ]
  },
  {
   "cell_type": "markdown",
   "id": "38c77a7b",
   "metadata": {},
   "source": [
    "Theorem\n",
    "The data must adhere to the randomization rule. It needs to be sampled at random. The samples should be unrelated to one another. One sample should not impact the others"
   ]
  },
  {
   "cell_type": "code",
   "execution_count": null,
   "id": "ae786330",
   "metadata": {},
   "outputs": [],
   "source": []
  }
 ],
 "metadata": {
  "kernelspec": {
   "display_name": "Python 3 (ipykernel)",
   "language": "python",
   "name": "python3"
  },
  "language_info": {
   "codemirror_mode": {
    "name": "ipython",
    "version": 3
   },
   "file_extension": ".py",
   "mimetype": "text/x-python",
   "name": "python",
   "nbconvert_exporter": "python",
   "pygments_lexer": "ipython3",
   "version": "3.9.13"
  }
 },
 "nbformat": 4,
 "nbformat_minor": 5
}
